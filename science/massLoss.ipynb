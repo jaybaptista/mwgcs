{
 "cells": [
  {
   "cell_type": "code",
   "execution_count": 1,
   "metadata": {},
   "outputs": [
    {
     "name": "stdout",
     "output_type": "stream",
     "text": [
      "Gravitree path added to sys.path.\n"
     ]
    }
   ],
   "source": [
    "import sys\n",
    "sys.path.append('~/Research/gfc/simulations/software/gravitree/python')\n",
    "import gravitree\n",
    "import numpy as np\n",
    "import matplotlib.pyplot as plt\n",
    "from mwgcs import Simulation, GCSystem"
   ]
  },
  {
   "cell_type": "code",
   "execution_count": 10,
   "metadata": {},
   "outputs": [
    {
     "ename": "FileNotFoundError",
     "evalue": "[Errno 2] No such file or directory: '/Users/jaybaptista/Research/gfc/simulations/SymphonyMilkyWay/Halo023/um/um.dat'",
     "output_type": "error",
     "traceback": [
      "\u001b[0;31m---------------------------------------------------------------------------\u001b[0m",
      "\u001b[0;31mFileNotFoundError\u001b[0m                         Traceback (most recent call last)",
      "Cell \u001b[0;32mIn[10], line 1\u001b[0m\n\u001b[0;32m----> 1\u001b[0m sim \u001b[38;5;241m=\u001b[39m Simulation(\u001b[38;5;124m\"\u001b[39m\u001b[38;5;124m/Users/jaybaptista/Research/gfc/simulations/SymphonyMilkyWay/Halo023/\u001b[39m\u001b[38;5;124m\"\u001b[39m)\n",
      "File \u001b[0;32m~/Research/mwgcs/mwgcs/sym.py:49\u001b[0m, in \u001b[0;36mSimulation.__init__\u001b[0;34m(self, sim_dir, seed)\u001b[0m\n\u001b[1;32m     47\u001b[0m \u001b[38;5;28mself\u001b[39m\u001b[38;5;241m.\u001b[39mrs, \u001b[38;5;28mself\u001b[39m\u001b[38;5;241m.\u001b[39mhist \u001b[38;5;241m=\u001b[39m symlib\u001b[38;5;241m.\u001b[39mread_rockstar(\u001b[38;5;28mself\u001b[39m\u001b[38;5;241m.\u001b[39msim_dir)\n\u001b[1;32m     48\u001b[0m \u001b[38;5;28mself\u001b[39m\u001b[38;5;241m.\u001b[39msf, \u001b[38;5;28mself\u001b[39m\u001b[38;5;241m.\u001b[39mshist \u001b[38;5;241m=\u001b[39m symlib\u001b[38;5;241m.\u001b[39mread_symfind(\u001b[38;5;28mself\u001b[39m\u001b[38;5;241m.\u001b[39msim_dir)\n\u001b[0;32m---> 49\u001b[0m \u001b[38;5;28mself\u001b[39m\u001b[38;5;241m.\u001b[39mum \u001b[38;5;241m=\u001b[39m symlib\u001b[38;5;241m.\u001b[39mread_um(\u001b[38;5;28mself\u001b[39m\u001b[38;5;241m.\u001b[39msim_dir)\n\u001b[1;32m     51\u001b[0m \u001b[38;5;66;03m# Get the galaxy halo model for star tagging\u001b[39;00m\n\u001b[1;32m     52\u001b[0m \u001b[38;5;28mself\u001b[39m\u001b[38;5;241m.\u001b[39mgal_halo \u001b[38;5;241m=\u001b[39m gal_halo \u001b[38;5;241m=\u001b[39m symlib\u001b[38;5;241m.\u001b[39mGalaxyHaloModel(\n\u001b[1;32m     53\u001b[0m     symlib\u001b[38;5;241m.\u001b[39mStellarMassModel(\n\u001b[1;32m     54\u001b[0m         symlib\u001b[38;5;241m.\u001b[39mUniverseMachineMStar(),\n\u001b[0;32m   (...)\u001b[0m\n\u001b[1;32m     66\u001b[0m     )\n\u001b[1;32m     67\u001b[0m )\n",
      "File \u001b[0;32m/opt/anaconda3/lib/python3.11/site-packages/symlib/lib.py:801\u001b[0m, in \u001b[0;36mread_um\u001b[0;34m(dir_name)\u001b[0m\n\u001b[1;32m    797\u001b[0m n \u001b[38;5;241m=\u001b[39m n_snap\u001b[38;5;241m*\u001b[39mn_halo\n\u001b[1;32m    799\u001b[0m out \u001b[38;5;241m=\u001b[39m np\u001b[38;5;241m.\u001b[39mzeros(n, dtype\u001b[38;5;241m=\u001b[39mUM_DTYPE)\n\u001b[0;32m--> 801\u001b[0m \u001b[38;5;28;01mwith\u001b[39;00m \u001b[38;5;28mopen\u001b[39m(fname) \u001b[38;5;28;01mas\u001b[39;00m fp:\n\u001b[1;32m    802\u001b[0m     out[\u001b[38;5;124m\"\u001b[39m\u001b[38;5;124mm_star\u001b[39m\u001b[38;5;124m\"\u001b[39m] \u001b[38;5;241m=\u001b[39m np\u001b[38;5;241m.\u001b[39mfromfile(fp, np\u001b[38;5;241m.\u001b[39mfloat32, n)\n\u001b[1;32m    803\u001b[0m     out[\u001b[38;5;124m\"\u001b[39m\u001b[38;5;124mm_in_situ\u001b[39m\u001b[38;5;124m\"\u001b[39m] \u001b[38;5;241m=\u001b[39m np\u001b[38;5;241m.\u001b[39mfromfile(fp, np\u001b[38;5;241m.\u001b[39mfloat32, n)\n",
      "\u001b[0;31mFileNotFoundError\u001b[0m: [Errno 2] No such file or directory: '/Users/jaybaptista/Research/gfc/simulations/SymphonyMilkyWay/Halo023/um/um.dat'"
     ]
    }
   ],
   "source": [
    "sim = Simulation(\"/Users/jaybaptista/Research/gfc/simulations/SymphonyMilkyWay/Halo023/\")"
   ]
  },
  {
   "cell_type": "code",
   "execution_count": 4,
   "metadata": {},
   "outputs": [],
   "source": [
    "from os import path"
   ]
  },
  {
   "cell_type": "code",
   "execution_count": 8,
   "metadata": {},
   "outputs": [],
   "source": [
    "f = open(path.join(\"/Users/jaybaptista/Research/gfc/simulations/SymphonyMilkyWay/Halo023/\", \"particles\", \"particle_header.dat\"))"
   ]
  },
  {
   "cell_type": "code",
   "execution_count": null,
   "metadata": {},
   "outputs": [],
   "source": []
  }
 ],
 "metadata": {
  "kernelspec": {
<<<<<<< HEAD
   "display_name": "Python 3 (ipykernel)",
=======
   "display_name": "base",
>>>>>>> b603e0c467438675711b34f0e15d5ad2419feff4
   "language": "python",
   "name": "python3"
  },
  "language_info": {
   "codemirror_mode": {
    "name": "ipython",
    "version": 3
   },
   "file_extension": ".py",
   "mimetype": "text/x-python",
   "name": "python",
   "nbconvert_exporter": "python",
   "pygments_lexer": "ipython3",
<<<<<<< HEAD
   "version": "3.11.9"
  }
 },
 "nbformat": 4,
 "nbformat_minor": 4
=======
   "version": "3.11.7"
  }
 },
 "nbformat": 4,
 "nbformat_minor": 2
>>>>>>> b603e0c467438675711b34f0e15d5ad2419feff4
}
