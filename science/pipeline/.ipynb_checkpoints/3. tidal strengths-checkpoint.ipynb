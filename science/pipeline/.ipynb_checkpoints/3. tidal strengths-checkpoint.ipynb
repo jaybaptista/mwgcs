{
 "cells": [
  {
   "cell_type": "code",
   "execution_count": 1,
   "id": "b6704099-f52d-434c-8929-f0840a08c1f3",
   "metadata": {},
   "outputs": [
    {
     "name": "stdout",
     "output_type": "stream",
     "text": [
      "Gravitree path added to sys.path.\n"
     ]
    }
   ],
   "source": [
    "import numpy as np\n",
    "import matplotlib.pyplot as plt\n",
    "from mwgcs import NFW, Einasto\n",
    "from gala.units import galactic\n",
    "from gala.potential import PlummerPotential\n",
    "import astropy.units as u\n",
    "\n",
    "pl_potential = PlummerPotential(1e10, 2. * u.kpc, units=galactic)\n",
    "nfw_potential = NFW(1e12, 25., 11.)\n",
    "ein_potential = Einasto(.18, 25., 7.)"
   ]
  },
  {
   "cell_type": "code",
   "execution_count": null,
   "id": "a91763b8-c7a3-4d89-b4d2-02841dcbb12c",
   "metadata": {},
   "outputs": [],
   "source": [
    "def hessian_to_lambda(hess, omega=None):\n",
    "    tidal_tensor = - hess\n",
    "    eigenvalues, eigenvectors = np.linalg.eig(tidal_tensor)\n",
    "\n",
    "    l1 = eigenvalues[0] \n",
    "    l2 = eigenvalues[1]\n",
    "    l3 = eigenvalues[2] # most negative eigenvalue? \n",
    "\n",
    "    if omega is None: # modify omega using eq. 4 and |V x R| / R^2\n",
    "        omega = - (1/3) * (l1 + l2 + l3)\n",
    "    \n",
    "    return eigenvalues[0] + omega\n",
    "\n",
    "def getOmegaInstantaneous(v, r):\n",
    "    om = np.abs(v_peri * r_peri) / r_peri**2\n",
    "    return om\n",
    "\n",
    "def getStrength(hess):\n",
    "    tidal = np.array([hessian_to_lambda(hess[:, :, i]) for i in range(100)])\n",
    "    no_omega = np.array([hessian_to_lambda(hess[:, :, i], False, True) for i in range(100)])\n",
    "    test = np.array([hessian_to_lambda(hess[:, :, i], True, True) for i in range(100)])\n",
    "    return tidal, no_omega, test"
   ]
  }
 ],
 "metadata": {
  "kernelspec": {
   "display_name": "Python 3 (ipykernel)",
   "language": "python",
   "name": "python3"
  },
  "language_info": {
   "codemirror_mode": {
    "name": "ipython",
    "version": 3
   },
   "file_extension": ".py",
   "mimetype": "text/x-python",
   "name": "python",
   "nbconvert_exporter": "python",
   "pygments_lexer": "ipython3",
   "version": "3.11.9"
  }
 },
 "nbformat": 4,
 "nbformat_minor": 5
}
