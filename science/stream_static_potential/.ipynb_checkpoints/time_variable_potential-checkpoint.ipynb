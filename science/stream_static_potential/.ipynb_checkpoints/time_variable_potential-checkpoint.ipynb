{
 "cells": [
  {
   "cell_type": "code",
   "execution_count": 5,
   "id": "cbd29222-6b0b-4403-b575-68346769dfea",
   "metadata": {},
   "outputs": [],
   "source": [
    "import numpy as np\n",
    "import matplotlib.pyplot as plt\n",
    "import asdf\n",
    "import symlib\n",
    "import sys\n",
    "sys.path.append('/sdf/home/j/jaymarie/software/gravitree/python')\n",
    "import gravitree\n",
    "import astropy.units as u\n",
    "from tqdm import tqdm\n",
    "\n",
    "import time # benchmarking\n",
    "\n",
    "from scipy.integrate import quad\n",
    "from scipy.interpolate import interp1d\n",
    "from scipy.signal import argrelextrema\n",
    "\n",
    "import gala.potential as gp\n",
    "import gala.dynamics as gd\n",
    "from gala.dynamics.nbody import DirectNBody\n",
    "from gala.integrate.cyintegrators.leapfrog import leapfrog_integrate_nbody\n",
    "from gala.potential.frame.builtin import StaticFrame\n",
    "from gala.units import galactic, UnitSystem\n",
    "\n",
    "sys.path.append('/sdf/home/j/jaymarie/mwgcs/science')\n",
    "from plot import setFonts\n",
    "setFonts()\n",
    "\n",
    "sim_dir = \"/fs/ddn/sdf/group/kipac/g/cosmo/ki21/phil1/simulations/ZoomIns/SymphonyMilkyWay/Halo023\"\n",
    "\n",
    "from mwgcs import Simulation, GCSystem, MassProfile, NFW, Einasto, sampleDwarfGCMF, getMassLossRate, mdot_gg23, getTidalTimescale, CMassLoss"
   ]
  },
  {
   "cell_type": "code",
   "execution_count": 7,
   "id": "0e1f48f5-b786-4559-aef0-7b394d81d51f",
   "metadata": {},
   "outputs": [],
   "source": [
    "dt = 1e-2 * u.Myr\n",
    "n_steps = 20\n",
    "t_end = n_steps * dt\n",
    "\n",
    "dm     = gp.NFWPotential(m=1e12, r_s=25., units=galactic)\n",
    "baryonic_masses = np.linspace(2e10, 4e10, n_steps)\n",
    "baryonic_core   = np.linspace(1, 2.3, n_steps)\n",
    "baryonic_potentials = [gp.PlummerPotential(m=m, b=b, units=galactic) for m, b in zip(baryonic_masses, baryonic_core)]\n",
    "potentials = [dm + b_i for b_i in baryonic_potentials]\n",
    "frame = StaticFrame(galactic)"
   ]
  },
  {
   "cell_type": "code",
   "execution_count": null,
   "id": "ade1ab6c-d373-4a29-9c84-ab6fd7a62269",
   "metadata": {},
   "outputs": [],
   "source": [
    "def integrate(w0 : PhaseSpacePosition, potentials):\n",
    "    w = w0.copy()\n",
    "    for potential in potentials:\n",
    "        hamiltonian = gp.Hamiltonian(potential, frame)\n",
    "        ext_acc = potential.acceleration(w0, t=t)"
   ]
  }
 ],
 "metadata": {
  "kernelspec": {
   "display_name": "Python 3 (ipykernel)",
   "language": "python",
   "name": "python3"
  },
  "language_info": {
   "codemirror_mode": {
    "name": "ipython",
    "version": 3
   },
   "file_extension": ".py",
   "mimetype": "text/x-python",
   "name": "python",
   "nbconvert_exporter": "python",
   "pygments_lexer": "ipython3",
   "version": "3.11.9"
  }
 },
 "nbformat": 4,
 "nbformat_minor": 5
}
