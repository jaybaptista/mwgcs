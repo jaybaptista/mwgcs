{
 "cells": [
  {
   "cell_type": "code",
   "execution_count": 1,
   "id": "d4bcc0f6-5a1e-48eb-a283-b4454f9cb787",
   "metadata": {},
   "outputs": [
    {
     "name": "stdout",
     "output_type": "stream",
     "text": [
      "Gravitree path added to sys.path.\n"
     ]
    }
   ],
   "source": [
    "import numpy as np\n",
    "import matplotlib.pyplot as plt\n",
    "from mwgcs import get_spherical_representation, get_cartesian_representation, Einasto, Profile, NFW\n",
    "\n",
    "from scipy.special import gammainc, gamma"
   ]
  },
  {
   "cell_type": "code",
   "execution_count": 2,
   "id": "b389d7be-4cad-49df-9661-b97320ddd40a",
   "metadata": {},
   "outputs": [],
   "source": [
    "class EinastoGPT(Profile):\n",
    "    def __init__(self, alpha, scaleRadius, logScaleDensity):\n",
    "        \"\"\"\n",
    "        Sets initial fitting parameters.\n",
    "\n",
    "        Parameters\n",
    "        ----------\n",
    "        Rs : float (optional, default=1)\n",
    "            Scale radius of the Einasto profile in kpc\n",
    "        \n",
    "        logScaleDensity : float (optional, default=0)\n",
    "            Log of the density at Rs in Msun/kpc^3\n",
    "        \n",
    "        alpha : float (optional, default=0.18)\n",
    "            Shape parameter of the Einasto profile\n",
    "        \"\"\"\n",
    "\n",
    "        self.alpha = alpha\n",
    "        self.Rs = scaleRadius\n",
    "        self.logScaleDensity = logScaleDensity\n",
    "\n",
    "    def A(self):\n",
    "        \"\"\"\n",
    "        Assuming an Einasto profile, the radius at which the density curve is maximal is A times the scale radius Rs.\n",
    "\n",
    "        Returns\n",
    "        -------\n",
    "        float\n",
    "            A parameter for the Einasto profile\n",
    "        \"\"\"\n",
    "        return 1.715 * (self.alpha**(-.00183)) * (self.alpha + 0.0817)**(-.179488)\n",
    "\n",
    "    def density(self, r):\n",
    "        return (10**self.logScaleDensity) * np.exp(-2/self.alpha * ((r/self.Rs)**self.alpha - 1))\n",
    "\n",
    "    def mass(self, r):\n",
    "        \"\"\"\n",
    "        Enclosed mass of the profile at radius r\n",
    "        \"\"\"\n",
    "        integ = lambda r: self.density(r) * 4 * np.pi * r**2\n",
    "        menc = quad(integ, 0, r)[0]\n",
    "        return menc\n",
    "\n",
    "    def potential(self, r, G=4.302e-3):\n",
    "        \"\"\"\n",
    "        Calculate the gravitational potential for an Einasto profile.\n",
    "        \n",
    "        Parameters:\n",
    "        - r: Radius at which to evaluate the potential (kpc).\n",
    "        - rho_0: Central density (M_sun/kpc^3).\n",
    "        - r_s: Scale radius (kpc).\n",
    "        - alpha: Shape parameter.\n",
    "        - G: Gravitational constant (kpc/M_sun (km/s)^2), default is 4.302e-3.\n",
    "        \n",
    "        Returns:\n",
    "        - Phi: Gravitational potential at radius r (km^2/s^2).\n",
    "        \"\"\"\n",
    "\n",
    "        rho_0, r_s, alpha = 10**self.logScaleDensity, self.Rs, self.alpha\n",
    "        n = 1.0 / alpha\n",
    "        d_n = 3.0 * n - 1.0 / 3.0 + 0.0079 / n\n",
    "        \n",
    "        # Compute the mass enclosed within radius r\n",
    "        def mass_enclosed(r):\n",
    "            return 4 * np.pi * rho_0 * r_s**3 * np.exp(d_n) * n * gammainc(3*n, (r / r_s)**(1/alpha))\n",
    "    \n",
    "        # Potential at radius r\n",
    "        M_r = mass_enclosed(r)\n",
    "        Phi = -G * M_r / r\n",
    "        \n",
    "        return Phi\n",
    "\n",
    "    def hessian(self, r):\n",
    "\n",
    "        x, y, z = r, 0., 0.\n",
    "        r = x\n",
    "        rho_0, r_s, alpha = 10**self.logScaleDensity, self.Rs, self.alpha\n",
    "    \n",
    "        # Calculate the potential and its first and second derivatives with respect to r\n",
    "        Phi_r = einasto_potential(r, rho_0, r_s, alpha, G)\n",
    "        \n",
    "        # Compute the derivatives of r with respect to x, y, z\n",
    "        dr_dx = x / r\n",
    "        dr_dy = y / r\n",
    "        dr_dz = z / r\n",
    "        \n",
    "        # First partial derivatives of Phi with respect to x, y, z\n",
    "        dPhi_dx = dr_dx * Phi_r\n",
    "        dPhi_dy = dr_dy * Phi_r\n",
    "        dPhi_dz = dr_dz * Phi_r\n",
    "        \n",
    "        # Second partial derivatives (Hessian elements)\n",
    "        d2Phi_dx2 = (1/r) * (Phi_r * (1 - dr_dx**2) - dPhi_dx)\n",
    "        d2Phi_dy2 = (1/r) * (Phi_r * (1 - dr_dy**2) - dPhi_dy)\n",
    "        d2Phi_dz2 = (1/r) * (Phi_r * (1 - dr_dz**2) - dPhi_dz)\n",
    "        \n",
    "        d2Phi_dxdy = (1/r) * (-dr_dx * dr_dy * Phi_r)\n",
    "        d2Phi_dxdz = (1/r) * (-dr_dx * dr_dz * Phi_r)\n",
    "        d2Phi_dydz = (1/r) * (-dr_dy * dr_dz * Phi_r)\n",
    "        \n",
    "        # Hessian matrix\n",
    "        Hessian = np.array([[d2Phi_dx2, d2Phi_dxdy, d2Phi_dxdz],\n",
    "                            [d2Phi_dxdy, d2Phi_dy2, d2Phi_dydz],\n",
    "                            [d2Phi_dxdz, d2Phi_dydz, d2Phi_dz2]])\n",
    "        \n",
    "        return Hessian\n",
    "\n",
    "def hessian(self, r):\n",
    "    \n",
    "    x, y, z = r, 0., 0.\n",
    "    r = x\n",
    "    rho_0, r_s, alpha = 10**self.logScaleDensity, self.Rs, self.alpha\n",
    "\n",
    "    # Calculate the potential and its first and second derivatives with respect to r\n",
    "    q = np.array([r, 0, 0])\n",
    "    Phi_r = self.potential(q)\n",
    "    \n",
    "    # Compute the derivatives of r with respect to x, y, z\n",
    "    dr_dx = x / r\n",
    "    dr_dy = y / r\n",
    "    dr_dz = z / r\n",
    "    \n",
    "    # First partial derivatives of Phi with respect to x, y, z\n",
    "    dPhi_dx = dr_dx * Phi_r\n",
    "    dPhi_dy = dr_dy * Phi_r\n",
    "    dPhi_dz = dr_dz * Phi_r\n",
    "    \n",
    "    # Second partial derivatives (Hessian elements)\n",
    "    d2Phi_dx2 = (1/r) * (Phi_r * (1 - dr_dx**2) - dPhi_dx)\n",
    "    d2Phi_dy2 = (1/r) * (Phi_r * (1 - dr_dy**2) - dPhi_dy)\n",
    "    d2Phi_dz2 = (1/r) * (Phi_r * (1 - dr_dz**2) - dPhi_dz)\n",
    "    \n",
    "    d2Phi_dxdy = (1/r) * (-dr_dx * dr_dy * Phi_r)\n",
    "    d2Phi_dxdz = (1/r) * (-dr_dx * dr_dz * Phi_r)\n",
    "    d2Phi_dydz = (1/r) * (-dr_dy * dr_dz * Phi_r)\n",
    "    \n",
    "    # Hessian matrix\n",
    "    Hessian = np.array([[d2Phi_dx2, d2Phi_dxdy, d2Phi_dxdz],\n",
    "                        [d2Phi_dxdy, d2Phi_dy2, d2Phi_dydz],\n",
    "                        [d2Phi_dxdz, d2Phi_dydz, d2Phi_dz2]])\n",
    "    \n",
    "    return Hessian"
   ]
  },
  {
   "cell_type": "code",
   "execution_count": 20,
   "id": "af7d7603-3e08-4976-b6cf-513a5aeab1a9",
   "metadata": {},
   "outputs": [],
   "source": [
    "rho_0 = 10**(3)  # M_sun/kpc^3\n",
    "r_s = 4. # kpc\n",
    "alpha = 0.18\n",
    "\n",
    "profile = Einasto(alpha, r_s, np.log10(rho_0))\n",
    "gpt_profile = EinastoGPT(alpha, r_s, np.log10(rho_0))"
   ]
  },
  {
   "cell_type": "code",
   "execution_count": 28,
   "id": "b03a9fd6-234a-4c72-ad32-7c2d2bdf5837",
   "metadata": {},
   "outputs": [],
   "source": [
    "r = np.logspace(-1, 2, 1000)\n",
    "\n",
    "pot = [profile.potential(np.array([r_i, 0., 0.])) for r_i in r]\n",
    "# gpt_pot = gpt_profile.potential(r)\n",
    "\n",
    "rho = [profile.density(r_i) for r_i in r]\n",
    "gpt_rho = gpt_profile.density(r)\n",
    "\n",
    "hess = [profile.hessian(r_i)[0, 0] for r_i in r]\n",
    "gpt_hess = [hessian(profile, r_i)[0, 0] for r_i in r]"
   ]
  },
  {
   "cell_type": "code",
   "execution_count": 29,
   "id": "54dcd9e0-e7aa-4465-b6e9-f4d4b4218f66",
   "metadata": {},
   "outputs": [],
   "source": [
    "from gala.potential import NFWPotential\n",
    "from gala.units import galactic\n",
    "\n",
    "nfw_gala = NFWPotential(1e12, 1., units=galactic)\n",
    "\n",
    "nfw_hess = [nfw_gala.hessian([r_i, 0., 0.,])[0,0] for r_i in r]\n",
    "nfw_pot = [nfw_gala([r_i, 0., 0.]) for r_i in r]\n",
    "nfw_rho = [nfw_gala.density([r_i, 0., 0.]) for r_i in r]"
   ]
  },
  {
   "cell_type": "code",
   "execution_count": 30,
   "id": "617659f1-69e5-4352-95ce-b130f5fc7dde",
   "metadata": {},
   "outputs": [
    {
     "data": {
      "image/png": "[encoded data removed]",
      "text/plain": [
       "<Figure size 640x480 with 1 Axes>"
      ]
     },
     "metadata": {},
     "output_type": "display_data"
    }
   ],
   "source": [
    "fig, ax = plt.subplots()\n",
    "ax.plot(r, pot)\n",
    "ax.plot(r, nfw_pot)\n",
    "ax.set_yscale('symlog')\n",
    "ax.set_xscale('log')\n",
    "plt.show()"
   ]
  },
  {
   "cell_type": "code",
   "execution_count": 32,
   "id": "233cfbd0-5f69-497b-930e-3128ebb3a5eb",
   "metadata": {},
   "outputs": [
    {
     "data": {
      "image/png": "[encoded data removed]",
      "text/plain": [
       "<Figure size 640x480 with 1 Axes>"
      ]
     },
     "metadata": {},
     "output_type": "display_data"
    }
   ],
   "source": [
    "fig, ax = plt.subplots()\n",
    "ax.loglog(r, rho)\n",
    "ax.loglog(r, gpt_rho, ls='--')\n",
    "ax.loglog(r, nfw_rho)\n",
    "plt.show()"
   ]
  },
  {
   "cell_type": "code",
   "execution_count": 1,
   "id": "600bd371-d9c2-411e-94cd-75a60c7edab0",
   "metadata": {},
   "outputs": [
    {
     "ename": "NameError",
     "evalue": "name 'plt' is not defined",
     "output_type": "error",
     "traceback": [
      "\u001b[0;31m---------------------------------------------------------------------------\u001b[0m",
      "\u001b[0;31mNameError\u001b[0m                                 Traceback (most recent call last)",
      "Cell \u001b[0;32mIn[1], line 1\u001b[0m\n\u001b[0;32m----> 1\u001b[0m fig, ax \u001b[38;5;241m=\u001b[39m \u001b[43mplt\u001b[49m\u001b[38;5;241m.\u001b[39msubplots()\n\u001b[1;32m      2\u001b[0m ax\u001b[38;5;241m.\u001b[39mplot(r, hess)\n\u001b[1;32m      3\u001b[0m ax\u001b[38;5;241m.\u001b[39mplot(r, nfw_hess, ls\u001b[38;5;241m=\u001b[39m\u001b[38;5;124m'\u001b[39m\u001b[38;5;124m--\u001b[39m\u001b[38;5;124m'\u001b[39m)\n",
      "\u001b[0;31mNameError\u001b[0m: name 'plt' is not defined"
     ]
    }
   ],
   "source": [
    "fig, ax = plt.subplots()\n",
    "ax.plot(r, hess)\n",
    "ax.plot(r, nfw_hess, ls='--')\n",
    "ax.set_yscale('symlog')\n",
    "ax.set_xscale('log')\n",
    "plt.show()"
   ]
  },
  {
   "cell_type": "code",
   "execution_count": null,
   "id": "075ee061-c528-4c57-8db8-35e061d5afe0",
   "metadata": {},
   "outputs": [],
   "source": []
  }
 ],
 "metadata": {
  "kernelspec": {
   "display_name": "Python 3 (ipykernel)",
   "language": "python",
   "name": "python3"
  },
  "language_info": {
   "codemirror_mode": {
    "name": "ipython",
    "version": 3
   },
   "file_extension": ".py",
   "mimetype": "text/x-python",
   "name": "python",
   "nbconvert_exporter": "python",
   "pygments_lexer": "ipython3",
   "version": "3.11.9"
  }
 },
 "nbformat": 4,
 "nbformat_minor": 5
}
