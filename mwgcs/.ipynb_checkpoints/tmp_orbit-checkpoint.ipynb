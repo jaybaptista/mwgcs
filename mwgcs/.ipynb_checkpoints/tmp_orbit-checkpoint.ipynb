{
 "cells": [
  {
   "cell_type": "code",
   "execution_count": 1,
   "id": "07a3c504-8db9-47d3-8987-ee6f605a44dd",
   "metadata": {},
   "outputs": [],
   "source": [
    "import asdf\n",
    "import numpy as np\n",
    "import pandas as pd"
   ]
  },
  {
   "cell_type": "code",
   "execution_count": null,
   "id": "f73e778a-cfcf-46f0-87e8-53ef1803276a",
   "metadata": {
    "scrolled": true
   },
   "outputs": [],
   "source": [
    "path = \"/sdf/home/j/jaymarie/mwgcs/science/pipeline/tagged_cluster.asdf\"\n",
    "\n",
    "af = asdf.open(path)\n",
    "\n",
    "snapshot = np.array(af[\"infall_snap\"])\n",
    "ids = np.array(af[\"gc_index\"])\n",
    "halo_id = np.array(af[\"halo_id\"])\n",
    "\n",
    "df = pd.DataFrame({\n",
    "    \"snapshot\": snapshot,\n",
    "    \"ids\": ids,\n",
    "    \"hid\": halo_id\n",
    "})\n",
    "\n",
    "from IPython.display import display, HTML\n",
    "\n",
    "display(HTML(df.sort_values([\"ids\"]).to_html()))"
   ]
  },
  {
   "cell_type": "code",
   "execution_count": null,
   "id": "63459327-bfd2-4e5b-bc9e-02b742f48dd5",
   "metadata": {},
   "outputs": [],
   "source": [
    "path = \"/sdf/home/j/jaymarie/mwgcs/science/pipeline/tracked_clusters.asdf\"\n",
    "\n",
    "af = asdf.open(path)\n",
    "\n",
    "snapshot = np.array(af[\"snapshot\"])\n",
    "ids = np.array(af[\"gc_index\"])\n",
    "halo_id = np.array(af[\"halo_id\"])\n",
    "\n",
    "df = pd.DataFrame({\n",
    "    \"snapshot\": snapshot,\n",
    "    \"ids\": ids,\n",
    "    \"hid\": halo_id\n",
    "})\n",
    "\n",
    "from IPython.display import display, HTML\n",
    "\n",
    "display(HTML(df.sort_values([\"ids\"]).to_html()))"
   ]
  },
  {
   "cell_type": "code",
   "execution_count": null,
   "id": "32c93640-f799-40b8-a8e6-0ee2d22853a3",
   "metadata": {},
   "outputs": [],
   "source": []
  }
 ],
 "metadata": {
  "kernelspec": {
   "display_name": "Python 3 (ipykernel)",
   "language": "python",
   "name": "python3"
  },
  "language_info": {
   "codemirror_mode": {
    "name": "ipython",
    "version": 3
   },
   "file_extension": ".py",
   "mimetype": "text/x-python",
   "name": "python",
   "nbconvert_exporter": "python",
   "pygments_lexer": "ipython3",
   "version": "3.11.9"
  }
 },
 "nbformat": 4,
 "nbformat_minor": 5
}
