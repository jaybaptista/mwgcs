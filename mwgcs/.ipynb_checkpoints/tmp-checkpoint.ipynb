{
 "cells": [
  {
   "cell_type": "code",
   "execution_count": 2,
   "id": "0dca9ef8-eca9-4385-a1b8-eb28916c82b4",
   "metadata": {},
   "outputs": [
    {
     "name": "stdout",
     "output_type": "stream",
     "text": [
      "Gravitree path added to sys.path.\n"
     ]
    }
   ],
   "source": [
    "import asdf\n",
    "import astropy.constants as c\n",
    "import astropy.units as u\n",
    "from colossus.cosmology import cosmology\n",
    "import matplotlib.pyplot as plt\n",
    "from matplotlib import rc\n",
    "import numpy as np\n",
    "import random\n",
    "from scipy.optimize import curve_fit\n",
    "from scipy.integrate import quad\n",
    "from scipy.interpolate import interp1d\n",
    "import symlib\n",
    "import os\n",
    "from tqdm import tqdm\n",
    "\n",
    "sim_dir = \"/fs/ddn/sdf/group/kipac/g/cosmo/ki21/phil1/simulations/ZoomIns/SymphonyMilkyWay/Halo023\"\n",
    "\n",
    "from mwgcs import Simulation, GCSystem, MassProfile, NFW\n",
    "\n",
    "sim = Simulation(sim_dir)"
   ]
  },
  {
   "cell_type": "code",
   "execution_count": 3,
   "id": "aa576c13-9288-4cf8-bae4-ec9af24e6460",
   "metadata": {},
   "outputs": [],
   "source": [
    "class EinastoLookupTable():\n",
    "    def __init__(self, sim : Simulation):\n",
    "        self.sim = sim\n",
    "        self.df = asdf.AsdfFile()\n",
    "        self.scale = 2.0\n",
    "        self.n_sh = sim.rs.shape[0]\n",
    "    \n",
    "    def createLookupTable(self, write_dir):\n",
    "        \n",
    "        self.alpha = np.zeros(sim.rs.shape) - 1.\n",
    "        self.rs = np.zeros(sim.rs.shape) - 1.\n",
    "        self.logrho = np.zeros(sim.rs.shape) - 99.\n",
    "        \n",
    "        for k in tqdm(range(self.n_sh)):\n",
    "            ok_snaps = np.where(self.sim.rs[k, :]['ok'])[0]\n",
    "            for sn in tqdm(ok_snaps):\n",
    "                prof = MassProfile(sim, sn, k)\n",
    "                prof.fit()\n",
    "                alpha, rs, logrho = prof.profile_params\n",
    "                self.alpha[k, sn] = alpha\n",
    "                self.rs[k, sn] = rs\n",
    "                self.logrho[k, sn] = logrho\n",
    "\n",
    "        self.df['alpha'] = self.alpha\n",
    "        self.df['rs'] = self.rs\n",
    "        self.df['logrho'] = self.logrho\n",
    "\n",
    "        self.df.write_to(os.path.join(write_dir , f'write_direinasto_params_{self.sim.getSimulationName()}.asdf'))"
   ]
  },
  {
   "cell_type": "code",
   "execution_count": 4,
   "id": "5e4ee4bb-f01a-48af-93cf-a5cddfd9bc01",
   "metadata": {},
   "outputs": [],
   "source": [
    "lt = EinastoLookupTable(sim)"
   ]
  },
  {
   "cell_type": "code",
   "execution_count": 5,
   "id": "a56d2501-7652-486c-82c3-c1881df9eebc",
   "metadata": {},
   "outputs": [
    {
     "name": "stderr",
     "output_type": "stream",
     "text": [
      "  0%|          | 0/419 [00:39<?, ?it/s]\n"
     ]
    },
    {
     "ename": "KeyboardInterrupt",
     "evalue": "",
     "output_type": "error",
     "traceback": [
      "\u001b[0;31m---------------------------------------------------------------------------\u001b[0m",
      "\u001b[0;31mKeyboardInterrupt\u001b[0m                         Traceback (most recent call last)",
      "Cell \u001b[0;32mIn[5], line 1\u001b[0m\n\u001b[0;32m----> 1\u001b[0m \u001b[43mlt\u001b[49m\u001b[38;5;241;43m.\u001b[39;49m\u001b[43mcreateLookupTable\u001b[49m\u001b[43m(\u001b[49m\u001b[38;5;124;43m'\u001b[39;49m\u001b[38;5;124;43mtest/\u001b[39;49m\u001b[38;5;124;43m'\u001b[39;49m\u001b[43m)\u001b[49m\n",
      "Cell \u001b[0;32mIn[3], line 17\u001b[0m, in \u001b[0;36mEinastoLookupTable.createLookupTable\u001b[0;34m(self, write_dir)\u001b[0m\n\u001b[1;32m     15\u001b[0m ok_snaps \u001b[38;5;241m=\u001b[39m np\u001b[38;5;241m.\u001b[39mwhere(\u001b[38;5;28mself\u001b[39m\u001b[38;5;241m.\u001b[39msim\u001b[38;5;241m.\u001b[39mrs[k, :][\u001b[38;5;124m'\u001b[39m\u001b[38;5;124mok\u001b[39m\u001b[38;5;124m'\u001b[39m])[\u001b[38;5;241m0\u001b[39m]\n\u001b[1;32m     16\u001b[0m \u001b[38;5;28;01mfor\u001b[39;00m sn \u001b[38;5;129;01min\u001b[39;00m ok_snaps:\n\u001b[0;32m---> 17\u001b[0m     prof \u001b[38;5;241m=\u001b[39m \u001b[43mMassProfile\u001b[49m\u001b[43m(\u001b[49m\u001b[43msim\u001b[49m\u001b[43m,\u001b[49m\u001b[43m \u001b[49m\u001b[43msn\u001b[49m\u001b[43m,\u001b[49m\u001b[43m \u001b[49m\u001b[43mk\u001b[49m\u001b[43m)\u001b[49m\n\u001b[1;32m     18\u001b[0m     prof\u001b[38;5;241m.\u001b[39mfit()\n\u001b[1;32m     19\u001b[0m     alpha, rs, logrho \u001b[38;5;241m=\u001b[39m prof\u001b[38;5;241m.\u001b[39mprofile_params\n",
      "File \u001b[0;32m~/mwgcs/mwgcs/fit.py:284\u001b[0m, in \u001b[0;36mMassProfile.__init__\u001b[0;34m(self, sim, snap, sh_id, boundOnly, subsample_frac)\u001b[0m\n\u001b[1;32m    276\u001b[0m \u001b[38;5;28;01mdef\u001b[39;00m \u001b[38;5;21m__init__\u001b[39m(\u001b[38;5;28mself\u001b[39m,\n\u001b[1;32m    277\u001b[0m              sim,\n\u001b[1;32m    278\u001b[0m              snap,\n\u001b[0;32m   (...)\u001b[0m\n\u001b[1;32m    281\u001b[0m              subsample_frac\u001b[38;5;241m=\u001b[39m\u001b[38;5;241m0.\u001b[39m\n\u001b[1;32m    282\u001b[0m             ):\n\u001b[0;32m--> 284\u001b[0m     p \u001b[38;5;241m=\u001b[39m \u001b[43msim\u001b[49m\u001b[38;5;241;43m.\u001b[39;49m\u001b[43mgetParticles\u001b[49m\u001b[43m(\u001b[49m\u001b[43msnap\u001b[49m\u001b[43m)\u001b[49m\n\u001b[1;32m    285\u001b[0m     params \u001b[38;5;241m=\u001b[39m sim\u001b[38;5;241m.\u001b[39mparams\n\u001b[1;32m    287\u001b[0m     \u001b[38;5;28mself\u001b[39m\u001b[38;5;241m.\u001b[39mtype \u001b[38;5;241m=\u001b[39m \u001b[38;5;124m\"\u001b[39m\u001b[38;5;124mein\u001b[39m\u001b[38;5;124m\"\u001b[39m\n",
      "File \u001b[0;32m~/mwgcs/mwgcs/sym.py:131\u001b[0m, in \u001b[0;36mSimulation.getParticles\u001b[0;34m(self, snap, mode)\u001b[0m\n\u001b[1;32m    129\u001b[0m \u001b[38;5;28;01mif\u001b[39;00m (\u001b[38;5;28mself\u001b[39m\u001b[38;5;241m.\u001b[39mbuffer_snap \u001b[38;5;241m!=\u001b[39m snap) \u001b[38;5;129;01mor\u001b[39;00m (\u001b[38;5;28mself\u001b[39m\u001b[38;5;241m.\u001b[39mparticles \u001b[38;5;129;01mis\u001b[39;00m \u001b[38;5;28;01mNone\u001b[39;00m):\n\u001b[1;32m    130\u001b[0m     \u001b[38;5;28mself\u001b[39m\u001b[38;5;241m.\u001b[39mbuffer_snap \u001b[38;5;241m=\u001b[39m snap\n\u001b[0;32m--> 131\u001b[0m     \u001b[38;5;28mself\u001b[39m\u001b[38;5;241m.\u001b[39mparticles \u001b[38;5;241m=\u001b[39m \u001b[38;5;28;43mself\u001b[39;49m\u001b[38;5;241;43m.\u001b[39;49m\u001b[43mpartClass\u001b[49m\u001b[38;5;241;43m.\u001b[39;49m\u001b[43mread\u001b[49m\u001b[43m(\u001b[49m\u001b[43msnap\u001b[49m\u001b[43m,\u001b[49m\u001b[43m \u001b[49m\u001b[43mmode\u001b[49m\u001b[38;5;241;43m=\u001b[39;49m\u001b[43mmode\u001b[49m\u001b[43m)\u001b[49m\n\u001b[1;32m    133\u001b[0m \u001b[38;5;28;01mreturn\u001b[39;00m \u001b[38;5;28mself\u001b[39m\u001b[38;5;241m.\u001b[39mparticles\n",
      "File \u001b[0;32m/sdf/scratch/users/j/jaymarie/tmp/gfc/lib/python3.11/site-packages/symlib/lib.py:1182\u001b[0m, in \u001b[0;36mParticles.read\u001b[0;34m(self, snap, halo, mode, comoving)\u001b[0m\n\u001b[1;32m   1180\u001b[0m idp \u001b[38;5;241m=\u001b[39m read_particles(part_info, sim_dir, snap, \u001b[38;5;124m\"\u001b[39m\u001b[38;5;124mid\u001b[39m\u001b[38;5;124m\"\u001b[39m)\n\u001b[1;32m   1181\u001b[0m x \u001b[38;5;241m=\u001b[39m read_particles(part_info, sim_dir, snap, \u001b[38;5;124m\"\u001b[39m\u001b[38;5;124mx\u001b[39m\u001b[38;5;124m\"\u001b[39m)\n\u001b[0;32m-> 1182\u001b[0m v \u001b[38;5;241m=\u001b[39m \u001b[43mread_particles\u001b[49m\u001b[43m(\u001b[49m\u001b[43mpart_info\u001b[49m\u001b[43m,\u001b[49m\u001b[43m \u001b[49m\u001b[43msim_dir\u001b[49m\u001b[43m,\u001b[49m\u001b[43m \u001b[49m\u001b[43msnap\u001b[49m\u001b[43m,\u001b[49m\u001b[43m \u001b[49m\u001b[38;5;124;43m\"\u001b[39;49m\u001b[38;5;124;43mv\u001b[39;49m\u001b[38;5;124;43m\"\u001b[39;49m\u001b[43m)\u001b[49m\n\u001b[1;32m   1183\u001b[0m \u001b[38;5;28;01mif\u001b[39;00m \u001b[38;5;129;01mnot\u001b[39;00m comoving:\n\u001b[1;32m   1184\u001b[0m     \u001b[38;5;28;01mfor\u001b[39;00m s \u001b[38;5;129;01min\u001b[39;00m \u001b[38;5;28mrange\u001b[39m(\u001b[38;5;28mlen\u001b[39m(x)):\n",
      "File \u001b[0;32m/sdf/scratch/users/j/jaymarie/tmp/gfc/lib/python3.11/site-packages/symlib/lib.py:1452\u001b[0m, in \u001b[0;36mread_particles\u001b[0;34m(part_info, base_dir, snap, var_name, owner, include_false_selections)\u001b[0m\n\u001b[1;32m   1450\u001b[0m     \u001b[38;5;28;01mfor\u001b[39;00m i_halo \u001b[38;5;129;01min\u001b[39;00m \u001b[38;5;28mrange\u001b[39m(hd\u001b[38;5;241m.\u001b[39mn_halo):\n\u001b[1;32m   1451\u001b[0m         idx \u001b[38;5;241m=\u001b[39m part_info\u001b[38;5;241m.\u001b[39mglobal_index[tags\u001b[38;5;241m.\u001b[39mid[i_halo] \u001b[38;5;241m-\u001b[39m \u001b[38;5;241m1\u001b[39m]\n\u001b[0;32m-> 1452\u001b[0m         out[i_halo] \u001b[38;5;241m=\u001b[39m x_full[idx]\n\u001b[1;32m   1454\u001b[0m     \u001b[38;5;28;01mreturn\u001b[39;00m [out[i] \u001b[38;5;28;01mfor\u001b[39;00m i \u001b[38;5;129;01min\u001b[39;00m false_remapping]\n\u001b[1;32m   1455\u001b[0m \u001b[38;5;28;01melif\u001b[39;00m var_name \u001b[38;5;241m==\u001b[39m \u001b[38;5;124m\"\u001b[39m\u001b[38;5;124minfall_core\u001b[39m\u001b[38;5;124m\"\u001b[39m:\n\u001b[1;32m   1456\u001b[0m     \u001b[38;5;66;03m# Setting owner doesn't do anything for infall_core.\u001b[39;00m\n",
      "\u001b[0;31mKeyboardInterrupt\u001b[0m: "
     ]
    }
   ],
   "source": [
    "lt.createLookupTable('test/')"
   ]
  },
  {
   "cell_type": "code",
   "execution_count": null,
   "id": "e58da2c1-62a9-4524-a61e-717309fadc82",
   "metadata": {},
   "outputs": [],
   "source": []
  }
 ],
 "metadata": {
  "kernelspec": {
   "display_name": "Python 3 (ipykernel)",
   "language": "python",
   "name": "python3"
  },
  "language_info": {
   "codemirror_mode": {
    "name": "ipython",
    "version": 3
   },
   "file_extension": ".py",
   "mimetype": "text/x-python",
   "name": "python",
   "nbconvert_exporter": "python",
   "pygments_lexer": "ipython3",
   "version": "3.11.9"
  }
 },
 "nbformat": 4,
 "nbformat_minor": 5
}
