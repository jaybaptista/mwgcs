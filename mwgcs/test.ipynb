{
 "cells": [
  {
   "cell_type": "code",
   "execution_count": 1,
   "id": "e334eef0",
   "metadata": {},
   "outputs": [
    {
     "name": "stdout",
     "output_type": "stream",
     "text": [
      "Gravitree path added to sys.path.\n"
     ]
    }
   ],
   "source": [
    "from mwgcs import evolve_stellar_mass, sample_ssp\n",
    "import time\n",
    "import numpy as np"
   ]
  },
  {
   "cell_type": "code",
   "execution_count": 2,
   "id": "f5cb72b5",
   "metadata": {},
   "outputs": [],
   "source": [
    "output = sample_ssp(10**(5.5), 6.0)\n",
    "niter = 1000"
   ]
  },
  {
   "cell_type": "code",
   "execution_count": 6,
   "id": "fe15a7e3",
   "metadata": {},
   "outputs": [
    {
     "data": {
      "text/plain": [
       "5.500001340526332"
      ]
     },
     "execution_count": 6,
     "metadata": {},
     "output_type": "execute_result"
    }
   ],
   "source": [
    "np.log10(np.sum(output[0]))"
   ]
  },
  {
   "cell_type": "code",
   "execution_count": 5,
   "id": "7a31f0ba",
   "metadata": {},
   "outputs": [
    {
     "data": {
      "text/plain": [
       "array([0.02771109, 0.01478015, 0.02197216, ..., 0.13836671, 0.01485746,\n",
       "       0.04366394])"
      ]
     },
     "execution_count": 5,
     "metadata": {},
     "output_type": "execute_result"
    }
   ],
   "source": [
    "output[0]"
   ]
  },
  {
   "cell_type": "code",
   "execution_count": 3,
   "id": "56693d52",
   "metadata": {},
   "outputs": [
    {
     "name": "stdout",
     "output_type": "stream",
     "text": [
      "0.0029318315982818604\n"
     ]
    }
   ],
   "source": [
    "t = []\n",
    "\n",
    "for _ in range(niter):\n",
    "    t0 = time.time()\n",
    "    evolve_stellar_mass(output[0], output[1], 1)\n",
    "    tf = time.time()\n",
    "    t.append(tf-t0)\n",
    "\n",
    "print(np.mean(t))"
   ]
  },
  {
   "cell_type": "code",
   "execution_count": 4,
   "id": "825ace00",
   "metadata": {},
   "outputs": [
    {
     "name": "stdout",
     "output_type": "stream",
     "text": [
      "0.002772862672805786\n"
     ]
    }
   ],
   "source": [
    "t = []\n",
    "\n",
    "for _ in range(niter):\n",
    "    t0 = time.time()\n",
    "    evolve_stellar_mass_py(output[0], output[1], 1)\n",
    "    tf = time.time()\n",
    "    t.append(tf-t0)\n",
    "\n",
    "print(np.mean(t))"
   ]
  },
  {
   "cell_type": "code",
   "execution_count": null,
   "id": "503c4805",
   "metadata": {},
   "outputs": [],
   "source": []
  }
 ],
 "metadata": {
  "kernelspec": {
   "display_name": "base",
   "language": "python",
   "name": "python3"
  },
  "language_info": {
   "codemirror_mode": {
    "name": "ipython",
    "version": 3
   },
   "file_extension": ".py",
   "mimetype": "text/x-python",
   "name": "python",
   "nbconvert_exporter": "python",
   "pygments_lexer": "ipython3",
   "version": "3.11.7"
  }
 },
 "nbformat": 4,
 "nbformat_minor": 5
}
